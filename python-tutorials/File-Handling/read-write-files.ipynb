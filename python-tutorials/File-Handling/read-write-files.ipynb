{
 "cells": [
  {
   "cell_type": "code",
   "execution_count": 1,
   "metadata": {},
   "outputs": [
    {
     "data": {
      "text/plain": [
       "228"
      ]
     },
     "execution_count": 1,
     "metadata": {},
     "output_type": "execute_result"
    }
   ],
   "source": [
    "import fnmatch\n",
    "### Search for all 5 letter words from dictionary containing all of input letters in any position ###\n",
    "\n",
    "# from asyncio import loop\n",
    "import urllib.request\n",
    "\n",
    "with urllib.request.urlopen(\"https://raw.githubusercontent.com/charlesreid1/five-letter-words/master/sgb-words.txt\") as url:\n",
    "  sl = url.read().decode()\n",
    "  words = sl.splitlines()\n",
    "\n",
    "stripped_wordlist = [s.strip() for s in words]\n",
    "stripped_wordlist1 = list(map(str.strip, words))\n",
    "\n",
    "import pandas as pd\n",
    "\n",
    "df = pd.DataFrame({'Wordlist': stripped_wordlist1})\n",
    "\n",
    "df1 = pd.DataFrame()\n",
    "\n",
    "df1[['0', 'Letter1', 'Letter2', 'Letter3', 'Letter4', 'Letter5', '6']] = df['Wordlist'].str.split(pat = '', expand=True)\n",
    "\n",
    "\n",
    "# Remove three columns as index base\n",
    "df1.drop(df1.columns[[0, 6]], axis=1, inplace=True)\n",
    "df1['wordlist'] =  stripped_wordlist1\n",
    "#set column as index\n",
    "df1 = df1.set_index('wordlist')\n",
    "\n",
    "# df[['Letter1', 'Letter2', 'Letter3', 'Letter4', 'Letter5']] =\n",
    "\n",
    "df1['Letter1'].value_counts()['w']\n",
    "\n",
    "\n",
    "# letters_df[['Letter1', 'Letter2', 'Letter3', 'Letter4', 'Letter5', 'bhaag']]  = df1\n",
    "# df1.head()\n"
   ]
  }
 ],
 "metadata": {
  "kernelspec": {
   "display_name": "Python 3",
   "language": "python",
   "name": "python3"
  },
  "language_info": {
   "codemirror_mode": {
    "name": "ipython",
    "version": 3
   },
   "file_extension": ".py",
   "mimetype": "text/x-python",
   "name": "python",
   "nbconvert_exporter": "python",
   "pygments_lexer": "ipython3",
   "version": "3.10.13"
  }
 },
 "nbformat": 4,
 "nbformat_minor": 2
}
