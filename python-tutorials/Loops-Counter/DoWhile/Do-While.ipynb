{
 "cells": [
  {
   "cell_type": "code",
   "execution_count": null,
   "metadata": {},
   "outputs": [],
   "source": [
    "import fnmatch\n",
    "import urllib.request\n",
    "\n",
    "with urllib.request.urlopen(\"https://raw.githubusercontent.com/charlesreid1/five-letter-words/master/sgb-words.txt\") as url:\n",
    "  sl = url.read().decode()\n",
    "  words = sl.splitlines()\n",
    "  \n",
    "check_str = 'bhaag'\n",
    "while check_str != \"exit\":\n",
    "  check_str = input(\n",
    "    'Enter character (with wildcards ex. \"q?ic?\", \"?r?w?\" etc.) for search \\\n",
    " or \"exit\" to exit ?\\n')\n",
    "  filtered = fnmatch.filter(words, check_str)\n",
    "  print(filtered)\n",
    "print('bhaag saaala !')"
   ]
  }
 ],
 "metadata": {
  "language_info": {
   "name": "python"
  }
 },
 "nbformat": 4,
 "nbformat_minor": 2
}
